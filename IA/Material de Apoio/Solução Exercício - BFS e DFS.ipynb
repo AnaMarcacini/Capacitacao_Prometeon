{
 "cells": [
  {
   "cell_type": "markdown",
   "id": "c82887c1",
   "metadata": {},
   "source": [
    "### Modelagem da Árvore\n",
    "\n",
    "**Descrição:** A modelagem da árvore pode ser realizada utilizando uma estrutura nativa do Python chamada de dicionário. Dicionários são estruturas que se comportam como uma lista porém, o índice de acesso é uma chave que é definida pelo lado esquerdo do dicionário, enquanto o lado direito é responsável pelo conteúdo da determinada chave.\n",
    "\n",
    "**Exemplo:**\n",
    "    <br>\n",
    "    - 1°) arvore[\"A\"] = [\"B\", \"C\", \"D\"];\n",
    "    <br>\n",
    "    - 2°) arvore[arvore[\"A\"][0]] = arvore[\"B\"] = [\"E\"]"
   ]
  },
  {
   "cell_type": "code",
   "execution_count": 15,
   "id": "14963c51",
   "metadata": {},
   "outputs": [],
   "source": [
    "arvore = {\n",
    "    \"A\" : [\"B\", \"C\", \"D\"],\n",
    "    \"B\" : [\"E\"],\n",
    "    \"C\" : [\"F\", \"G\"],\n",
    "    \"D\" : [\"H\"],\n",
    "    \"E\" : [\"I\", \"J\"],\n",
    "    \"F\" : [\"K\"],\n",
    "    \"G\" : [],\n",
    "    \"H\" : [],\n",
    "    \"I\" : [],\n",
    "    \"J\" : [],\n",
    "    \"K\" : []\n",
    "         }"
   ]
  },
  {
   "cell_type": "code",
   "execution_count": 16,
   "id": "8424a7ee",
   "metadata": {},
   "outputs": [
    {
     "name": "stdout",
     "output_type": "stream",
     "text": [
      "['B', 'C', 'D']\n"
     ]
    }
   ],
   "source": [
    "print(arvore[\"A\"])"
   ]
  },
  {
   "cell_type": "code",
   "execution_count": 17,
   "id": "ffd13cca",
   "metadata": {
    "scrolled": true
   },
   "outputs": [
    {
     "name": "stdout",
     "output_type": "stream",
     "text": [
      "['E']\n"
     ]
    }
   ],
   "source": [
    "print(arvore[arvore[\"A\"][0]])"
   ]
  },
  {
   "cell_type": "markdown",
   "id": "4288c62e",
   "metadata": {},
   "source": [
    "### Atualizar o Nível Atual\n",
    "\n",
    "**Descrição:** A busca do BFS é com base no nível atual da árvore, então para fazer a busca, é necessário possuir a lista de nós (filhos) que estão no mesmo nível. Portanto, a função Atualiza_Nivel() é responsável por obter o próximo nivel da árvore dado o nível atual.\n",
    "\n",
    "**Exemplo:**\n",
    "    <br>\n",
    "    - 1°) Atualiza_Nivel(arvore, [\"A\"]) = [\"B\", \"C\", \"D\"];\n",
    "    <br>\n",
    "    - 2°) Atualiza_Nivel(arvore, [\"B\", \"C\", \"D\"]) = [\"E\", \"F\", \"G\", \"H\"]"
   ]
  },
  {
   "cell_type": "code",
   "execution_count": 18,
   "id": "a6d986e6",
   "metadata": {},
   "outputs": [],
   "source": [
    "def Atualiza_Nivel(arvore, nivel):\n",
    "    novo_nivel = []\n",
    "    \n",
    "    for filho in nivel:\n",
    "        for novo_filho in arvore[filho]:\n",
    "            novo_nivel.append(novo_filho)\n",
    "    \n",
    "    return novo_nivel"
   ]
  },
  {
   "cell_type": "code",
   "execution_count": 19,
   "id": "01092dd8",
   "metadata": {},
   "outputs": [
    {
     "name": "stdout",
     "output_type": "stream",
     "text": [
      "['A']\n",
      "['B', 'C', 'D']\n",
      "['E', 'F', 'G', 'H']\n",
      "['I', 'J', 'K']\n"
     ]
    }
   ],
   "source": [
    "#Teste da função Atualiza_Nivell\n",
    "\n",
    "nivel_1 = [\"A\"]\n",
    "nivel_2 = Atualiza_Nivel(arvore, nivel_1)\n",
    "nivel_3 = Atualiza_Nivel(arvore, nivel_2)\n",
    "nivel_4 = Atualiza_Nivel(arvore, nivel_3)\n",
    "\n",
    "print(nivel_1)\n",
    "print(nivel_2)\n",
    "print(nivel_3)\n",
    "print(nivel_4)"
   ]
  },
  {
   "cell_type": "markdown",
   "id": "c82b3a85",
   "metadata": {},
   "source": [
    "### Implementação do BFS\n",
    "\n",
    "**Descrição:** A célula a seguir, tem como objetivo implementar o BFS."
   ]
  },
  {
   "cell_type": "code",
   "execution_count": 20,
   "id": "538c011b",
   "metadata": {},
   "outputs": [],
   "source": [
    "def BFS_Solve(arvore, no_inicial, no_final):\n",
    "    no_atual = no_inicial\n",
    "    \n",
    "    visitados = []\n",
    "    visitados.append(no_atual)\n",
    "    \n",
    "    nivel = arvore[no_atual]\n",
    "    \n",
    "    while nivel != []:\n",
    "        \n",
    "        for filho in nivel:\n",
    "            no_atual = filho\n",
    "            visitados.append(no_atual)\n",
    "            \n",
    "            if no_atual == no_final:\n",
    "                nivel = []\n",
    "                break\n",
    "        \n",
    "        if nivel != []:\n",
    "            nivel = Atualiza_Nivel(arvore, nivel)\n",
    "    \n",
    "    if visitados[-1] == no_final:\n",
    "        print(\"Nó encontrado!\")\n",
    "    \n",
    "    else:\n",
    "        print(\"Nó não encontrado\")\n",
    "    \n",
    "    return visitados"
   ]
  },
  {
   "cell_type": "markdown",
   "id": "6249d7a2",
   "metadata": {},
   "source": [
    "### Imprimindo o Caminho\n",
    "\n",
    "**Descrição:** A célula a seguir, faz a leitura de uma lista que representa o caminho percorrido pelo algoritmo e imprime qual foi o caminho percorrido."
   ]
  },
  {
   "cell_type": "code",
   "execution_count": 21,
   "id": "ae1011c6",
   "metadata": {},
   "outputs": [],
   "source": [
    "def Imprime_Caminho(lista):\n",
    "    caminho = \"\"\n",
    "    \n",
    "    for no in lista:\n",
    "        if no != lista[-1]:\n",
    "            caminho += no + \" -> \"\n",
    "        else:\n",
    "            caminho += no\n",
    "    \n",
    "    print(caminho)\n",
    "    \n",
    "    return"
   ]
  },
  {
   "cell_type": "markdown",
   "id": "4160dd6b",
   "metadata": {},
   "source": [
    "### Rodando o BFS\n",
    "\n",
    "**Descrição:** A célula a seguir, é responsável por testar o BFS e mostrar o caminho obtido pelo algoritmo."
   ]
  },
  {
   "cell_type": "code",
   "execution_count": 27,
   "id": "c5c2789b",
   "metadata": {
    "scrolled": true
   },
   "outputs": [
    {
     "name": "stdout",
     "output_type": "stream",
     "text": [
      "Nó encontrado!\n",
      "A -> B -> C -> D -> E -> F -> G -> H -> I -> J -> K\n"
     ]
    }
   ],
   "source": [
    "caminho = BFS_Solve(arvore, \"A\", \"K\")\n",
    "Imprime_Caminho(caminho)"
   ]
  },
  {
   "cell_type": "markdown",
   "id": "5a4a2c58",
   "metadata": {},
   "source": [
    "### Implementação do DFS\n",
    "\n",
    "**Descrição:** A célula a seguir, tem como objetivo implementar o DFS."
   ]
  },
  {
   "cell_type": "code",
   "execution_count": 25,
   "id": "a160e3b3",
   "metadata": {},
   "outputs": [],
   "source": [
    "def DFS_Solve(arvore, no_inicial, no_final, visitados=None, comeco=True):\n",
    "    no_atual = no_inicial\n",
    "    \n",
    "    if visitados == None:\n",
    "        visitados = []\n",
    "        \n",
    "    visitados.append(no_atual)\n",
    "    \n",
    "    if no_atual == no_final:\n",
    "        print(\"Nó encontrado!\")\n",
    "        return\n",
    "    \n",
    "    filhos = arvore[no_atual]\n",
    "        \n",
    "    for filho in filhos:\n",
    "        DFS_Solve(arvore, filho, no_final, visitados, False)\n",
    "        if visitados[-1] == no_final:\n",
    "            break\n",
    "    \n",
    "    if visitados[-1] != no_final and comeco == True:\n",
    "        print(\"Nó não encontrado\")\n",
    "    \n",
    "    return visitados"
   ]
  },
  {
   "cell_type": "code",
   "execution_count": 28,
   "id": "005b76ae",
   "metadata": {
    "scrolled": false
   },
   "outputs": [
    {
     "name": "stdout",
     "output_type": "stream",
     "text": [
      "Nó não encontrado\n",
      "A -> B -> E -> I -> J -> C -> F -> K -> G -> D -> H\n"
     ]
    }
   ],
   "source": [
    "caminho = DFS_Solve(arvore, \"A\", \"O\")\n",
    "Imprime_Caminho(caminho)"
   ]
  },
  {
   "cell_type": "code",
   "execution_count": null,
   "id": "ee581dcf",
   "metadata": {},
   "outputs": [],
   "source": []
  }
 ],
 "metadata": {
  "kernelspec": {
   "display_name": "Python 3 (ipykernel)",
   "language": "python",
   "name": "python3"
  },
  "language_info": {
   "codemirror_mode": {
    "name": "ipython",
    "version": 3
   },
   "file_extension": ".py",
   "mimetype": "text/x-python",
   "name": "python",
   "nbconvert_exporter": "python",
   "pygments_lexer": "ipython3",
   "version": "3.8.16"
  }
 },
 "nbformat": 4,
 "nbformat_minor": 5
}
