{
 "cells": [
  {
   "cell_type": "code",
   "execution_count": 1,
   "id": "b7269793",
   "metadata": {
    "scrolled": true
   },
   "outputs": [
    {
     "data": {
      "text/html": [
       "<div>\n",
       "<style scoped>\n",
       "    .dataframe tbody tr th:only-of-type {\n",
       "        vertical-align: middle;\n",
       "    }\n",
       "\n",
       "    .dataframe tbody tr th {\n",
       "        vertical-align: top;\n",
       "    }\n",
       "\n",
       "    .dataframe thead th {\n",
       "        text-align: right;\n",
       "    }\n",
       "</style>\n",
       "<table border=\"1\" class=\"dataframe\">\n",
       "  <thead>\n",
       "    <tr style=\"text-align: right;\">\n",
       "      <th></th>\n",
       "      <th>Id</th>\n",
       "      <th>SepalLengthCm</th>\n",
       "      <th>SepalWidthCm</th>\n",
       "      <th>PetalLengthCm</th>\n",
       "      <th>PetalWidthCm</th>\n",
       "      <th>Species</th>\n",
       "    </tr>\n",
       "  </thead>\n",
       "  <tbody>\n",
       "    <tr>\n",
       "      <th>0</th>\n",
       "      <td>1</td>\n",
       "      <td>5.1</td>\n",
       "      <td>3.5</td>\n",
       "      <td>1.4</td>\n",
       "      <td>0.2</td>\n",
       "      <td>Iris-setosa</td>\n",
       "    </tr>\n",
       "    <tr>\n",
       "      <th>1</th>\n",
       "      <td>2</td>\n",
       "      <td>4.9</td>\n",
       "      <td>3.0</td>\n",
       "      <td>1.4</td>\n",
       "      <td>0.2</td>\n",
       "      <td>Iris-setosa</td>\n",
       "    </tr>\n",
       "    <tr>\n",
       "      <th>2</th>\n",
       "      <td>3</td>\n",
       "      <td>4.7</td>\n",
       "      <td>3.2</td>\n",
       "      <td>1.3</td>\n",
       "      <td>0.2</td>\n",
       "      <td>Iris-setosa</td>\n",
       "    </tr>\n",
       "    <tr>\n",
       "      <th>3</th>\n",
       "      <td>4</td>\n",
       "      <td>4.6</td>\n",
       "      <td>3.1</td>\n",
       "      <td>1.5</td>\n",
       "      <td>0.2</td>\n",
       "      <td>Iris-setosa</td>\n",
       "    </tr>\n",
       "    <tr>\n",
       "      <th>4</th>\n",
       "      <td>5</td>\n",
       "      <td>5.0</td>\n",
       "      <td>3.6</td>\n",
       "      <td>1.4</td>\n",
       "      <td>0.2</td>\n",
       "      <td>Iris-setosa</td>\n",
       "    </tr>\n",
       "    <tr>\n",
       "      <th>5</th>\n",
       "      <td>6</td>\n",
       "      <td>5.4</td>\n",
       "      <td>3.9</td>\n",
       "      <td>1.7</td>\n",
       "      <td>0.4</td>\n",
       "      <td>Iris-setosa</td>\n",
       "    </tr>\n",
       "    <tr>\n",
       "      <th>6</th>\n",
       "      <td>7</td>\n",
       "      <td>4.6</td>\n",
       "      <td>3.4</td>\n",
       "      <td>1.4</td>\n",
       "      <td>0.3</td>\n",
       "      <td>Iris-setosa</td>\n",
       "    </tr>\n",
       "    <tr>\n",
       "      <th>7</th>\n",
       "      <td>8</td>\n",
       "      <td>5.0</td>\n",
       "      <td>3.4</td>\n",
       "      <td>1.5</td>\n",
       "      <td>0.2</td>\n",
       "      <td>Iris-setosa</td>\n",
       "    </tr>\n",
       "    <tr>\n",
       "      <th>8</th>\n",
       "      <td>9</td>\n",
       "      <td>4.4</td>\n",
       "      <td>2.9</td>\n",
       "      <td>1.4</td>\n",
       "      <td>0.2</td>\n",
       "      <td>Iris-setosa</td>\n",
       "    </tr>\n",
       "    <tr>\n",
       "      <th>9</th>\n",
       "      <td>10</td>\n",
       "      <td>4.9</td>\n",
       "      <td>3.1</td>\n",
       "      <td>1.5</td>\n",
       "      <td>0.1</td>\n",
       "      <td>Iris-setosa</td>\n",
       "    </tr>\n",
       "  </tbody>\n",
       "</table>\n",
       "</div>"
      ],
      "text/plain": [
       "   Id  SepalLengthCm  SepalWidthCm  PetalLengthCm  PetalWidthCm      Species\n",
       "0   1            5.1           3.5            1.4           0.2  Iris-setosa\n",
       "1   2            4.9           3.0            1.4           0.2  Iris-setosa\n",
       "2   3            4.7           3.2            1.3           0.2  Iris-setosa\n",
       "3   4            4.6           3.1            1.5           0.2  Iris-setosa\n",
       "4   5            5.0           3.6            1.4           0.2  Iris-setosa\n",
       "5   6            5.4           3.9            1.7           0.4  Iris-setosa\n",
       "6   7            4.6           3.4            1.4           0.3  Iris-setosa\n",
       "7   8            5.0           3.4            1.5           0.2  Iris-setosa\n",
       "8   9            4.4           2.9            1.4           0.2  Iris-setosa\n",
       "9  10            4.9           3.1            1.5           0.1  Iris-setosa"
      ]
     },
     "execution_count": 1,
     "metadata": {},
     "output_type": "execute_result"
    }
   ],
   "source": [
    "import pandas as pd\n",
    "\n",
    "DataFrame = pd.read_csv(\"Database/IrisDataset.csv\")\n",
    "DataFrame.head(10)"
   ]
  },
  {
   "cell_type": "code",
   "execution_count": 2,
   "id": "b8e674a9",
   "metadata": {},
   "outputs": [
    {
     "data": {
      "text/plain": [
       "Iris-setosa        50\n",
       "Iris-versicolor    50\n",
       "Iris-virginica     50\n",
       "Name: Species, dtype: int64"
      ]
     },
     "execution_count": 2,
     "metadata": {},
     "output_type": "execute_result"
    }
   ],
   "source": [
    "DataFrame[\"Species\"].value_counts()"
   ]
  },
  {
   "cell_type": "code",
   "execution_count": 3,
   "id": "d7ea793a",
   "metadata": {},
   "outputs": [
    {
     "name": "stdout",
     "output_type": "stream",
     "text": [
      "X (ENTRADA):  [5.1, 3.5, 1.4, 0.2]\n",
      "Y (SAÍDA):  Iris-setosa\n"
     ]
    }
   ],
   "source": [
    "X = []\n",
    "Y = []\n",
    "\n",
    "for i in range(0, len(DataFrame)):\n",
    "    Atributos = []\n",
    "    \n",
    "    for atributo in range(1,5):\n",
    "        Atributos.append(DataFrame.iat[i,atributo])\n",
    "    \n",
    "    X.append(Atributos)\n",
    "    Y.append(DataFrame.iat[i,5])\n",
    "\n",
    "print(\"X (ENTRADA): \", X[0])\n",
    "print(\"Y (SAÍDA): \", Y[0])"
   ]
  },
  {
   "cell_type": "code",
   "execution_count": 4,
   "id": "426ba328",
   "metadata": {
    "scrolled": true
   },
   "outputs": [
    {
     "name": "stdout",
     "output_type": "stream",
     "text": [
      "Acurácia Linear:  0.9746888888888796\n",
      "Acurácia Polinomial:  0.9641111111111006\n",
      "Acurácia RBF:  0.9593555555555452\n",
      "Acurácia Sigmoid:  0.24957777777777915\n"
     ]
    }
   ],
   "source": [
    "from sklearn import svm\n",
    "from sklearn.metrics import *\n",
    "from sklearn.model_selection import train_test_split\n",
    "\n",
    "AcuraciaLinear = 0\n",
    "AcuraciaPolinomial = 0\n",
    "AcuraciaRBF = 0\n",
    "AcuraciaSigmoid = 0\n",
    "\n",
    "Iteracoes = 1000\n",
    "\n",
    "for i in range(0, Iteracoes):\n",
    "\n",
    "    X_Treinamento, X_Teste, Y_Treinamento, Y_Teste = train_test_split(X, Y, test_size=0.3)\n",
    "\n",
    "    ClassificadorSVM_Linear = svm.SVC(kernel=\"linear\")\n",
    "    ClassificadorSVM_Polinomial = svm.SVC(kernel=\"poly\")\n",
    "    ClassificadorSVM_RBF = svm.SVC(kernel=\"rbf\")\n",
    "    ClassificadorSVM_Sigmoid = svm.SVC(kernel=\"sigmoid\")\n",
    "\n",
    "    ClassificadorSVM_Linear.fit(X_Treinamento, Y_Treinamento)\n",
    "    ClassificadorSVM_Polinomial.fit(X_Treinamento, Y_Treinamento)\n",
    "    ClassificadorSVM_RBF.fit(X_Treinamento, Y_Treinamento)\n",
    "    ClassificadorSVM_Sigmoid.fit(X_Treinamento, Y_Treinamento)\n",
    "\n",
    "    LinearPredict = ClassificadorSVM_Linear.predict( X_Teste )\n",
    "    PolinomialPredict = ClassificadorSVM_Polinomial.predict( X_Teste )\n",
    "    RBFPredict = ClassificadorSVM_RBF.predict( X_Teste )\n",
    "    SigmoidPredict = ClassificadorSVM_Sigmoid.predict( X_Teste )\n",
    "\n",
    "    AcuraciaLinear += accuracy_score(Y_Teste, LinearPredict)\n",
    "    AcuraciaPolinomial += accuracy_score(Y_Teste, PolinomialPredict)\n",
    "    AcuraciaRBF += accuracy_score(Y_Teste, RBFPredict)\n",
    "    AcuraciaSigmoid += accuracy_score(Y_Teste, SigmoidPredict)\n",
    "\n",
    "AcuraciaLinear /= Iteracoes\n",
    "AcuraciaPolinomial /= Iteracoes\n",
    "AcuraciaRBF /= Iteracoes\n",
    "AcuraciaSigmoid /= Iteracoes\n",
    "\n",
    "print(\"Acurácia Linear: \", AcuraciaLinear)\n",
    "print(\"Acurácia Polinomial: \", AcuraciaPolinomial)\n",
    "print(\"Acurácia RBF: \", AcuraciaRBF)\n",
    "print(\"Acurácia Sigmoid: \", AcuraciaSigmoid)"
   ]
  },
  {
   "cell_type": "code",
   "execution_count": 5,
   "id": "4f3ecc62",
   "metadata": {},
   "outputs": [
    {
     "name": "stdout",
     "output_type": "stream",
     "text": [
      "Acuráia KNN:  0.9614444444444354\n"
     ]
    }
   ],
   "source": [
    "from sklearn.neighbors import KNeighborsClassifier\n",
    "\n",
    "AcuraciaKNN = 0\n",
    "\n",
    "for i in range(0, Iteracoes):\n",
    "\n",
    "    X_Treinamento, X_Teste, Y_Treinamento, Y_Teste = train_test_split(X, Y, test_size=0.3)\n",
    "    \n",
    "    Classificador_KNN = KNeighborsClassifier(n_neighbors=15)\n",
    "    Classificador_KNN.fit(X_Treinamento, Y_Treinamento)\n",
    "    \n",
    "    KNNPredict = Classificador_KNN.predict( X_Teste )\n",
    "    \n",
    "    AcuraciaKNN += accuracy_score(Y_Teste, KNNPredict)\n",
    "\n",
    "AcuraciaKNN /= Iteracoes\n",
    "\n",
    "print(\"Acuráia KNN: \", AcuraciaKNN)"
   ]
  },
  {
   "cell_type": "code",
   "execution_count": 10,
   "id": "32d3584c",
   "metadata": {},
   "outputs": [
    {
     "name": "stdout",
     "output_type": "stream",
     "text": [
      "Acuráia Árvores de Decisão:  0.9469555555555472\n"
     ]
    }
   ],
   "source": [
    "from sklearn import tree\n",
    "\n",
    "AcuraciaArvoresDecisao = 0\n",
    "\n",
    "for i in range(0, Iteracoes):\n",
    "\n",
    "    X_Treinamento, X_Teste, Y_Treinamento, Y_Teste = train_test_split(X, Y, test_size=0.3)\n",
    "    \n",
    "    Classificador_AD = tree.DecisionTreeClassifier()\n",
    "    Classificador_AD.fit(X_Treinamento, Y_Treinamento)\n",
    "    \n",
    "    ADPredict = Classificador_AD.predict( X_Teste )\n",
    "    \n",
    "    AcuraciaArvoresDecisao += accuracy_score(Y_Teste, ADPredict)\n",
    "\n",
    "AcuraciaArvoresDecisao /= Iteracoes\n",
    "\n",
    "print(\"Acuráia Árvores de Decisão: \", AcuraciaArvoresDecisao)"
   ]
  }
 ],
 "metadata": {
  "kernelspec": {
   "display_name": "Python 3 (ipykernel)",
   "language": "python",
   "name": "python3"
  },
  "language_info": {
   "codemirror_mode": {
    "name": "ipython",
    "version": 3
   },
   "file_extension": ".py",
   "mimetype": "text/x-python",
   "name": "python",
   "nbconvert_exporter": "python",
   "pygments_lexer": "ipython3",
   "version": "3.10.12"
  }
 },
 "nbformat": 4,
 "nbformat_minor": 5
}
