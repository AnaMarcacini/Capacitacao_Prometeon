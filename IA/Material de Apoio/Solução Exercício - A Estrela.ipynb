{
 "cells": [
  {
   "cell_type": "markdown",
   "id": "b72f44a8",
   "metadata": {},
   "source": [
    "### Gerar Estados\n",
    "\n",
    "**Descrição:** É fundamental desenvolver uma função que calcule quais serão os próximos estados possíveis. Dessa forma, não é necessário conhecer previamente toda a árvore de possibilidades."
   ]
  },
  {
   "cell_type": "code",
   "execution_count": 1,
   "id": "d0efb1a9",
   "metadata": {},
   "outputs": [],
   "source": [
    "def Gerar_Estados(estado_atual, estados_abertos):\n",
    "    \n",
    "    proximos_estados = [\n",
    "        [estado_atual[0]    , estado_atual[1] - 1, -1],\n",
    "        [estado_atual[0]    , estado_atual[1] + 1,  1],\n",
    "        [estado_atual[0] - 1, estado_atual[1]    , -2],\n",
    "        [estado_atual[0] + 1, estado_atual[1]    ,  2],\n",
    "        [estado_atual[0] - 1, estado_atual[1] - 1, -3],\n",
    "        [estado_atual[0] + 1, estado_atual[1] + 1,  3],\n",
    "        [estado_atual[0] - 1, estado_atual[1] + 1, -4],\n",
    "        [estado_atual[0] + 1, estado_atual[1] - 1,  4]\n",
    "    ]\n",
    "    \n",
    "    remover = []\n",
    "    \n",
    "    for estado in range(0, len(proximos_estados)):\n",
    "        xNegativo = proximos_estados[estado][0] < 0\n",
    "        xUltrapassou = proximos_estados[estado][0] > 7\n",
    "        yNegativo = proximos_estados[estado][1] < 0\n",
    "        yUltrapassou = proximos_estados[estado][1] > 5\n",
    "        estadoAberto = proximos_estados[estado] in estados_abertos\n",
    "        \n",
    "        if (xNegativo or xUltrapassou or yNegativo or yUltrapassou or estadoAberto):\n",
    "            remover.append(estado)\n",
    "    \n",
    "    for estado in range(0, len(remover)):\n",
    "        total = len(remover) - 1\n",
    "        estado = remover[total - estado]\n",
    "        del proximos_estados[estado]\n",
    "    \n",
    "    return proximos_estados"
   ]
  },
  {
   "cell_type": "markdown",
   "id": "f2becdd0",
   "metadata": {},
   "source": [
    "### Validar o Gerador de Estados\n",
    "\n",
    "**Descrição:** A célula abaixo serve para validar se os estados estão sendo gerados corretamente."
   ]
  },
  {
   "cell_type": "code",
   "execution_count": 2,
   "id": "6c034eb9",
   "metadata": {
    "scrolled": true
   },
   "outputs": [
    {
     "name": "stdout",
     "output_type": "stream",
     "text": [
      "[0, 1, 1]\n",
      "[1, 0, 2]\n",
      "[1, 1, 3]\n"
     ]
    }
   ],
   "source": [
    "def Imprime_Estados(estados):\n",
    "    for estado in estados:\n",
    "        print(estado)\n",
    "\n",
    "estados = Gerar_Estados([0, 0, 0], [])\n",
    "Imprime_Estados(estados)"
   ]
  },
  {
   "cell_type": "markdown",
   "id": "c9c3a6a4",
   "metadata": {},
   "source": [
    "### Calcular Custo e Heurísitca\n",
    "\n",
    "**Descrição:** A célula abaixo é responsável por conter o algoritmo utilizado para calcular o custo total (Função Custo) e a heurística do estado atual (Função Heurística). A Heurística adotada para a solução deste problema foi a Distância Euclidiana."
   ]
  },
  {
   "cell_type": "code",
   "execution_count": 3,
   "id": "42fbb168",
   "metadata": {},
   "outputs": [],
   "source": [
    "import math\n",
    "\n",
    "def Calcula_Custo(estado_atual, estados_visitados):\n",
    "    estado_retorno = estado_atual\n",
    "    custo = 0\n",
    "    \n",
    "    if len(estados_visitados) <= 1:\n",
    "        return 0\n",
    "    \n",
    "    while True:\n",
    "        busca_estados = Gerar_Estados(estado_retorno, [])\n",
    "        \n",
    "        for estado in busca_estados:\n",
    "            if -estado_retorno[2] == estado[2]:\n",
    "                if estado[2] == 4 or estado[2] == -4 or estado[2] == 3 or estado[2] == -3:\n",
    "                    custo += 1\n",
    "                else:\n",
    "                    custo +=2\n",
    "\n",
    "                for estado_visitado in estados_visitados:\n",
    "                    if estado_visitado[0] == estado[0] and estado_visitado[1] == estado[1]:\n",
    "                        estado_retorno = estado_visitado\n",
    "                        if estado_retorno[2] == 0:\n",
    "                            return custo\n",
    "                        else:\n",
    "                            break\n",
    "                break\n",
    "\n",
    "def Funcao_Heuristica(estado_atual, estado_final):\n",
    "    return math.sqrt( (estado_final[0] - estado_atual[0])**2 + (estado_final[1] - estado_atual[1])**2 )"
   ]
  },
  {
   "cell_type": "markdown",
   "id": "7c35f11b",
   "metadata": {},
   "source": [
    "### Implementação do A*\n",
    "\n",
    "**Descrição:** A célula abaixo contém a implementação do algoritmo A* junto com a função Valor."
   ]
  },
  {
   "cell_type": "code",
   "execution_count": 4,
   "id": "82756bc9",
   "metadata": {},
   "outputs": [],
   "source": [
    "def Calcula_Funcao_Valor(estado_atual, estado_final, estados_visitados, funcao_custo, funcao_heuristica):\n",
    "    custo = funcao_custo(estado_atual, estados_visitados)\n",
    "    heuristica = funcao_heuristica(estado_atual, estado_final)\n",
    "    return (custo + heuristica)\n",
    "\n",
    "def A_Star_Solve(estado_inicial, estado_final, funcao_custo, funcao_heuristica):\n",
    "    estado_atual = estado_inicial\n",
    "    estados_abertos = [estado_atual]\n",
    "    estados_visitados = []\n",
    "    estados_nao_visitados = []\n",
    "    funcao_Valor = []\n",
    "    \n",
    "    while True:\n",
    "        estados_visitados.append(estado_atual)\n",
    "        funcao_Valor.append(Calcula_Funcao_Valor(estado_atual, estado_final, estados_visitados, funcao_custo, funcao_heuristica))\n",
    "        \n",
    "        matchX = estado_atual[0] == estado_final[0]\n",
    "        matchY = estado_atual[1] == estado_final[1]\n",
    "        \n",
    "        if matchX and matchY:\n",
    "            print(\"Solução encontrada!\")\n",
    "            return estados_visitados, funcao_Valor\n",
    "\n",
    "        novos_estados = Gerar_Estados(estado_atual, estados_abertos)\n",
    "        \n",
    "        semNovosEstados = novos_estados == []\n",
    "        semVisita = estados_nao_visitados == []\n",
    "        \n",
    "        if semNovosEstados and semVisita:\n",
    "            print(\"Solução não encontrada!\")\n",
    "            return estados_visitados\n",
    "        \n",
    "        for estado in novos_estados:\n",
    "            estados_abertos.append(estado)\n",
    "            estados_nao_visitados.append(estado)\n",
    "        \n",
    "        menorValor = 99999999\n",
    "        proximo_estado = -1\n",
    "        \n",
    "        for estado in range(0, len(estados_nao_visitados)):\n",
    "            estado_teste = estados_nao_visitados[estado]\n",
    "            valor = Calcula_Funcao_Valor(estado_teste, estado_final, estados_visitados, funcao_custo, funcao_heuristica)\n",
    "            \n",
    "            if valor < menorValor:\n",
    "                menorValor = valor\n",
    "                proximo_estado = estado\n",
    "        \n",
    "        estado_atual = estados_nao_visitados[proximo_estado]\n",
    "        del estados_nao_visitados[proximo_estado]"
   ]
  },
  {
   "cell_type": "markdown",
   "id": "2b1bbcc8",
   "metadata": {},
   "source": [
    "### Imprimir Caminho e f(n).\n",
    "\n",
    "**Descrição:** As células abaixo são responsáveis por imprimir o caminho realizado pelo A* e as respectivas f(n) em cada estado visitado."
   ]
  },
  {
   "cell_type": "code",
   "execution_count": 5,
   "id": "7eeb9053",
   "metadata": {},
   "outputs": [],
   "source": [
    "def Imprime_Caminho(lista):\n",
    "    caminho = \"\"\n",
    "    \n",
    "    for estado in lista:\n",
    "        if estado != lista[-1]:\n",
    "            caminho += str(estado) + \" -> \"\n",
    "        else:\n",
    "            caminho += str(estado)\n",
    "    \n",
    "    print(caminho)\n",
    "    \n",
    "    return caminho\n",
    "\n",
    "def Imprime_Valor(lista):\n",
    "    caminho = \"\"\n",
    "    \n",
    "    for valor in range(0, len(lista)):\n",
    "        if valor != (len(lista) - 1):\n",
    "            caminho += str(\"%.2f\" % lista[valor]) + \" -> \"\n",
    "        else:\n",
    "            caminho += str(\"%.2f\" % lista[valor])\n",
    "    \n",
    "    return caminho"
   ]
  },
  {
   "cell_type": "code",
   "execution_count": 6,
   "id": "942a38c1",
   "metadata": {
    "scrolled": false
   },
   "outputs": [
    {
     "name": "stdout",
     "output_type": "stream",
     "text": [
      "Solução encontrada!\n",
      "[0, 0, 0] -> [1, 1, 3] -> [2, 2, 3] -> [3, 3, 3] -> [4, 4, 3] -> [5, 5, 3] -> [6, 4, 4] -> [7, 5, 3]\n",
      "f(n) = 8.60 -> 8.21 -> 7.83 -> 7.47 -> 7.16 -> 7.00 -> 7.41 -> 7.00\n"
     ]
    }
   ],
   "source": [
    "caminho, f_n = A_Star_Solve([0,0,0], [7,5], Calcula_Custo, Funcao_Heuristica)\n",
    "Imprime_Caminho(caminho)\n",
    "print(\"f(n) = %s\" % Imprime_Valor(f_n))"
   ]
  }
 ],
 "metadata": {
  "kernelspec": {
   "display_name": "Python 3 (ipykernel)",
   "language": "python",
   "name": "python3"
  },
  "language_info": {
   "codemirror_mode": {
    "name": "ipython",
    "version": 3
   },
   "file_extension": ".py",
   "mimetype": "text/x-python",
   "name": "python",
   "nbconvert_exporter": "python",
   "pygments_lexer": "ipython3",
   "version": "3.8.16"
  }
 },
 "nbformat": 4,
 "nbformat_minor": 5
}
